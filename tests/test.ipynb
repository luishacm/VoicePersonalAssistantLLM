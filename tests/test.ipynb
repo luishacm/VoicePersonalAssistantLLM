{
 "cells": [
  {
   "cell_type": "code",
   "execution_count": 1,
   "metadata": {},
   "outputs": [],
   "source": [
    "import undetected_chromedriver as uc\n",
    "from selenium.webdriver.common.by import By\n",
    "from selenium.webdriver.common.keys import Keys\n",
    "import time\n",
    "\n",
    "profile_path = \"selenium/profiles\"\n",
    "chrome_options = uc.ChromeOptions()\n",
    "chrome_options.add_argument(f\"user-data-dir={profile_path}\")\n",
    "driver = uc.Chrome(options=chrome_options)"
   ]
  },
  {
   "cell_type": "code",
   "execution_count": 2,
   "metadata": {},
   "outputs": [],
   "source": [
    "driver.get(\"https://chat.openai.com/?model=gpt-4\")"
   ]
  },
  {
   "cell_type": "code",
   "execution_count": 5,
   "metadata": {},
   "outputs": [],
   "source": [
    "new_chat_xpath = \"//span[contains(text(), 'New Chat')]\"\n",
    "element = driver.find_element(By.XPATH, new_chat_xpath)\n",
    "element.click()"
   ]
  },
  {
   "cell_type": "code",
   "execution_count": 6,
   "metadata": {},
   "outputs": [],
   "source": [
    "gpt_4_xpath = \"//li[@data-testid='gpt-4']\"\n",
    "element = driver.find_element(By.XPATH, gpt_4_xpath)\n",
    "element.click()"
   ]
  },
  {
   "cell_type": "code",
   "execution_count": 7,
   "metadata": {},
   "outputs": [],
   "source": [
    "from selenium.webdriver.common.keys import Keys"
   ]
  },
  {
   "cell_type": "code",
   "execution_count": 8,
   "metadata": {},
   "outputs": [],
   "source": [
    "import time"
   ]
  },
  {
   "cell_type": "code",
   "execution_count": 11,
   "metadata": {},
   "outputs": [],
   "source": [
    "while True:\n",
    "    regenerate_xpath = \"//div[contains(text(),'Regenerate')]\"\n",
    "    try:\n",
    "        element = driver.find_element(By.XPATH, regenerate_xpath)\n",
    "        break\n",
    "    except Exception:\n",
    "        time.sleep(1)\n"
   ]
  },
  {
   "cell_type": "code",
   "execution_count": 12,
   "metadata": {},
   "outputs": [],
   "source": [
    "prompt_text_area = \"//textarea[@id='prompt-textarea']\"\n",
    "element = driver.find_element(By.XPATH, prompt_text_area)\n",
    "element.click()\n",
    "element.send_keys(\"Você poderia me enviar outro poema?\")\n",
    "element.send_keys(Keys.ENTER)"
   ]
  },
  {
   "cell_type": "code",
   "execution_count": 13,
   "metadata": {},
   "outputs": [],
   "source": [
    "assistant_response = \"//div[@data-message-author-role='assistant']\"\n",
    "elements = driver.find_elements(By.XPATH, assistant_response)"
   ]
  },
  {
   "cell_type": "code",
   "execution_count": 16,
   "metadata": {},
   "outputs": [
    {
     "name": "stdout",
     "output_type": "stream",
     "text": [
      "Certamente, aqui está outro poema para você:\n",
      "css\n",
      "Copy code\n",
      "Entre o mar e o céu, um horizonte,\n",
      "Traço indefinido, sempre à frente.\n",
      "Tal qual a busca por nossa fonte,\n",
      "Esperanças e sonhos na mente.\n",
      "\n",
      "O sol se põe, tingindo o céu de fogo,\n",
      "O dia cede espaço para a noite.\n",
      "Aqui estou eu, em um mundo tão logo,\n",
      "Mas, em pensamentos, num lugar tão afoite.\n",
      "\n",
      "Entre linhas e versos, eu me perco,\n",
      "Em um labirinto de palavras, eu me acho.\n",
      "A cada rima, como um arco reverso,\n",
      "Vejo os sentimentos que antes não via tão baixo.\n",
      "\n",
      "E assim viajo, neste mar de tinta,\n",
      "Sem bússola ou mapa, apenas guiado.\n",
      "Por estrelas poéticas, que a alma pinta,\n",
      "Em um universo de sonhos, por mim criado.\n",
      "\n",
      "No final, o que resta são palavras ao vento,\n",
      "Ecos de um ser, em constante movimento.\n",
      "Mas na simplicidade de cada momento,\n",
      "Reside a eternidade, o verdadeiro alento.\n",
      "Espero que aprecie!\n"
     ]
    }
   ],
   "source": [
    "if elements:\n",
    "    last_element = elements[-1]\n",
    "\n",
    "texto = last_element.text\n",
    "print(last_element.text)"
   ]
  }
 ],
 "metadata": {
  "kernelspec": {
   "display_name": "Python 3",
   "language": "python",
   "name": "python3"
  },
  "language_info": {
   "codemirror_mode": {
    "name": "ipython",
    "version": 3
   },
   "file_extension": ".py",
   "mimetype": "text/x-python",
   "name": "python",
   "nbconvert_exporter": "python",
   "pygments_lexer": "ipython3",
   "version": "3.11.7"
  }
 },
 "nbformat": 4,
 "nbformat_minor": 2
}
